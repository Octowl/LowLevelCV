{
 "metadata": {
  "name": "",
  "signature": "sha256:91edd339212cdad2cfd7cb243ceee1ceea0bbeddb8786503bf074c830988d7e5"
 },
 "nbformat": 3,
 "nbformat_minor": 0,
 "worksheets": [
  {
   "cells": [
    {
     "cell_type": "heading",
     "level": 1,
     "metadata": {},
     "source": [
      "Low Level Computer Vision Demo"
     ]
    },
    {
     "cell_type": "heading",
     "level": 2,
     "metadata": {},
     "source": [
      "Tools"
     ]
    },
    {
     "cell_type": "markdown",
     "metadata": {},
     "source": [
      "First let's import all the tools and libraries we need.\n",
      "\n",
      "We need scipy and numpy because we're going to treat our images and filters as 2D arrays. Matplotlib's Pyplot module allows us to save arrays as images. IPython's display and Image modules let us display images rather than plotting them."
     ]
    },
    {
     "cell_type": "code",
     "collapsed": false,
     "input": [
      "from scipy import misc, signal\n",
      "import numpy as np\n",
      "import matplotlib.pyplot as plt\n",
      "\n",
      "from IPython.display import Image, clear_output\n",
      "\n",
      "%pylab inline\n",
      "FAST = False#True\n",
      "def rgb2gray(rgb):\n",
      "\n",
      "    r, g, b = rgb[:,:,0], rgb[:,:,1], rgb[:,:,2]\n",
      "    gray = 0.2989 * r + 0.5870 * g + 0.1140 * b\n",
      "\n",
      "    return gray"
     ],
     "language": "python",
     "metadata": {},
     "outputs": []
    },
    {
     "cell_type": "heading",
     "level": 2,
     "metadata": {},
     "source": [
      "\n",
      "\n",
      "\n",
      "\n",
      "\n",
      "Not So Scary Convolution"
     ]
    },
    {
     "cell_type": "markdown",
     "metadata": {},
     "source": [
      "\\begin{equation*} I' \\left( i,j \\right) = I * H = \\sum\\limits_{k,l}I\\left( i+k, j+l \\right)H\\left( -k,-l\\right) \\end{equation*}\n",
      "\n",
      "\n",
      "- **I** is the **image** array\n",
      "- **H** is the **filter** or **mask** or **kernel**\n",
      "- **I'** is the **filtered image**"
     ]
    },
    {
     "cell_type": "code",
     "collapsed": false,
     "input": [
      "def slowConvolve(H, I):\n",
      "    # flip the filter\n",
      "    if len(shape(H))>1:\n",
      "        H = np.flipud(np.fliplr(H))\n",
      "    # Zero pad the image on all sides\n",
      "    buf = shape(H)[0]\n",
      "    Ifilt = I #[:50,:50]\n",
      "    I = np.lib.pad(Ifilt, (int(buf/2),), 'constant', constant_values=(0))\n",
      "    \n",
      "    for i in range(shape(I)[0]-buf+1):\n",
      "        for j in range(shape(I)[1]-buf+1):\n",
      "            if not i%20 and not j%200 and not FAST:\n",
      "                #plt.imshow(Ifilt, cmap=plt.cm.gray)\n",
      "                #plt.axis('off')\n",
      "                #plt.show()\n",
      "                plt.imsave('demo.png', Ifilt, cmap=plt.cm.gray)\n",
      "                display(Image('demo.png'))\n",
      "                clear_output(wait=True)\n",
      "            Ifilt[i,j] = sum(H*I[i:i+buf,j:j+buf])\n",
      "            if np.isnan(Ifilt[i,j]):\n",
      "                Ifilt[i,j] = 0\n",
      "    plt.imsave('demo.png', Ifilt, cmap=plt.cm.gray)\n",
      "    display(Image('demo.png'))\n",
      "    print(\"DONE\")"
     ],
     "language": "python",
     "metadata": {},
     "outputs": []
    },
    {
     "cell_type": "heading",
     "level": 2,
     "metadata": {},
     "source": [
      "Lena"
     ]
    },
    {
     "cell_type": "markdown",
     "metadata": {},
     "source": [
      "This is Lena, staple of the image processing world...friend to the lonely image analyst..."
     ]
    },
    {
     "cell_type": "code",
     "collapsed": false,
     "input": [
      "lena = misc.lena()\n",
      "plt.imsave('lena.png',lena,  cmap=plt.cm.gray)\n",
      "plt.imshow(lena, cmap=plt.cm.gray)\n",
      "plt.axis('off')\n",
      "plt.show()"
     ],
     "language": "python",
     "metadata": {},
     "outputs": []
    },
    {
     "cell_type": "heading",
     "level": 2,
     "metadata": {},
     "source": [
      "The World's Most Useless Filters"
     ]
    },
    {
     "cell_type": "markdown",
     "metadata": {},
     "source": [
      "What does the following filter do?"
     ]
    },
    {
     "cell_type": "code",
     "collapsed": false,
     "input": [
      "ERASE_FILTER = array([[0,0,0,0,0],\n",
      "                      [0,0,0,0,0],\n",
      "                      [0,0,0,0,0],\n",
      "                      [0,0,0,0,0],\n",
      "                      [0,0,0,0,0]])\n",
      "display(ERASE_FILTER)\n",
      "plt.imshow(ERASE_FILTER, plt.cm.gray)\n",
      "plt.axis('off')\n",
      "plt.show()"
     ],
     "language": "python",
     "metadata": {},
     "outputs": []
    },
    {
     "cell_type": "markdown",
     "metadata": {},
     "source": [
      "Let's find out by filtering Lena"
     ]
    },
    {
     "cell_type": "code",
     "collapsed": false,
     "input": [
      "slowConvolve(ERASE_FILTER, copy(lena))"
     ],
     "language": "python",
     "metadata": {},
     "outputs": []
    },
    {
     "cell_type": "markdown",
     "metadata": {},
     "source": [
      "What about this one?"
     ]
    },
    {
     "cell_type": "code",
     "collapsed": false,
     "input": [
      "NOTHING_FILTER = array([[0,0,0,0,0],\n",
      "                        [0,0,0,0,0],\n",
      "                        [0,0,1,0,0],\n",
      "                        [0,0,0,0,0],\n",
      "                        [0,0,0,0,0]])\n",
      "plt.imshow(NOTHING_FILTER,plt.cm.gray)\n",
      "plt.axis('off')\n",
      "plt.show()"
     ],
     "language": "python",
     "metadata": {},
     "outputs": []
    },
    {
     "cell_type": "code",
     "collapsed": false,
     "input": [
      "slowConvolve(NOTHING_FILTER, misc.lena())"
     ],
     "language": "python",
     "metadata": {},
     "outputs": []
    },
    {
     "cell_type": "heading",
     "level": 2,
     "metadata": {},
     "source": [
      "Blurring and Noise Reduction"
     ]
    },
    {
     "cell_type": "heading",
     "level": 4,
     "metadata": {},
     "source": [
      "Mean Filter aka Low Pass Filter aka Smoothing Mask aka Blurring Mask aka Box Mask"
     ]
    },
    {
     "cell_type": "code",
     "collapsed": false,
     "input": [
      "MEAN_FILTER = array([[1.0/25,1.0/25,1.0/25,1.0/25,1.0/25],\n",
      "                     [1.0/25,1.0/25,1.0/25,1.0/25,1.0/25],\n",
      "                     [1.0/25,1.0/25,1.0/25,1.0/25,1.0/25],\n",
      "                     [1.0/25,1.0/25,1.0/25,1.0/25,1.0/25],\n",
      "                     [1.0/25,1.0/25,1.0/25,1.0/25,1.0/25]])\n",
      "plt.imshow(MEAN_FILTER,plt.cm.gray)\n",
      "plt.axis('off')\n",
      "plt.show()"
     ],
     "language": "python",
     "metadata": {},
     "outputs": []
    },
    {
     "cell_type": "code",
     "collapsed": false,
     "input": [
      "slowConvolve(MEAN_FILTER, misc.lena())"
     ],
     "language": "python",
     "metadata": {},
     "outputs": []
    },
    {
     "cell_type": "heading",
     "level": 4,
     "metadata": {},
     "source": [
      "Gaussian Filter"
     ]
    },
    {
     "cell_type": "code",
     "collapsed": false,
     "input": [
      "sizex = 30\n",
      "sizey = 30\n",
      "sigma = 10\n",
      "x, y = np.mgrid[-sizex:sizex+1, -sizey:sizey+1]\n",
      "g = np.exp(-(1.0/sigma)*(x**2/float(sizex)+y**2/float(sizey)))\n",
      "GAUSSIAN_FILTER = g/g.sum()\n",
      "\n",
      "plt.imshow(GAUSSIAN_FILTER, plt.cm.gray)\n",
      "plt.axis('off')\n",
      "plt.show()"
     ],
     "language": "python",
     "metadata": {},
     "outputs": []
    },
    {
     "cell_type": "code",
     "collapsed": false,
     "input": [
      "slowConvolve(GAUSSIAN_FILTER, misc.lena())"
     ],
     "language": "python",
     "metadata": {},
     "outputs": []
    },
    {
     "cell_type": "heading",
     "level": 2,
     "metadata": {},
     "source": [
      "Edge Detection"
     ]
    },
    {
     "cell_type": "heading",
     "level": 4,
     "metadata": {},
     "source": [
      "Difference Masks"
     ]
    },
    {
     "cell_type": "code",
     "collapsed": false,
     "input": [
      "HORIZONTAL_MASK = array([-1,2,-1])\n",
      "slowConvolve(HORIZONTAL_MASK, misc.lena())"
     ],
     "language": "python",
     "metadata": {},
     "outputs": []
    },
    {
     "cell_type": "code",
     "collapsed": false,
     "input": [
      "VERTICAL_MASK = array([[-1],\n",
      "                       [2],\n",
      "                       [-1]])\n",
      "slowConvolve(VERTICAL_MASK, misc.lena())"
     ],
     "language": "python",
     "metadata": {},
     "outputs": []
    },
    {
     "cell_type": "code",
     "collapsed": false,
     "input": [
      "DIAGONAL_MASK = array([[-1,0,0],\n",
      "                       [0,2,0],\n",
      "                       [0,0,-1]])\n",
      "slowConvolve(DIAGONAL_MASK, misc.lena())"
     ],
     "language": "python",
     "metadata": {},
     "outputs": []
    },
    {
     "cell_type": "heading",
     "level": 4,
     "metadata": {},
     "source": [
      "Edge Detection Filter"
     ]
    },
    {
     "cell_type": "code",
     "collapsed": false,
     "input": [
      "EDGE_DETECTOR = array([[-1,-1,-1],[-1,8,-1],[-1,-1,-1]])\n",
      "slowConvolve(EDGE_DETECTOR, misc.lena())"
     ],
     "language": "python",
     "metadata": {},
     "outputs": []
    },
    {
     "cell_type": "heading",
     "level": 2,
     "metadata": {},
     "source": [
      "Feature Detection/Template Matching"
     ]
    },
    {
     "cell_type": "code",
     "collapsed": false,
     "input": [
      "BIKE = rgb2gray(plt.imread('bike_outline.png'))\n",
      "plt.imshow(BIKE, plt.cm.gray)\n",
      "plt.axis('off')\n",
      "plt.show()"
     ],
     "language": "python",
     "metadata": {},
     "outputs": []
    },
    {
     "cell_type": "code",
     "collapsed": false,
     "input": [
      "BIKE_TEMPLATE = flipud(fliplr(BIKE[100:201, 0:101]))\n",
      "plt.imshow(BIKE_TEMPLATE, plt.cm.gray)\n",
      "plt.axis('off')\n",
      "plt.show()"
     ],
     "language": "python",
     "metadata": {},
     "outputs": []
    },
    {
     "cell_type": "code",
     "collapsed": false,
     "input": [
      "slowConvolve(BIKE_TEMPLATE,copy(BIKE))"
     ],
     "language": "python",
     "metadata": {},
     "outputs": []
    }
   ],
   "metadata": {}
  }
 ]
}